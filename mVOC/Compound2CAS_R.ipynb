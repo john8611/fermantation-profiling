{
 "cells": [
  {
   "cell_type": "code",
   "execution_count": 7,
   "metadata": {
    "collapsed": false
   },
   "outputs": [
    {
     "name": "stderr",
     "output_type": "stream",
     "text": [
      "Loading required package: bitops\n"
     ]
    }
   ],
   "source": [
    "lib <- c(\"XML\",\"RCurl\",\"rentrez\")\n",
    "# install.packages(lib,, repos = 'http://cran.us.r-project.org')\n",
    "library(XML)\n",
    "library(RCurl)\n",
    "library(rentrez)"
   ]
  },
  {
   "cell_type": "markdown",
   "metadata": {},
   "source": [
    "# CAS-ID to CID\n",
    "\n",
    "### fuction : CAStocids(CAS-ID)"
   ]
  },
  {
   "cell_type": "code",
   "execution_count": 21,
   "metadata": {
    "collapsed": false
   },
   "outputs": [
    {
     "data": {
      "text/html": [
       "'5282237'"
      ],
      "text/latex": [
       "'5282237'"
      ],
      "text/markdown": [
       "'5282237'"
      ],
      "text/plain": [
       "[1] \"5282237\""
      ]
     },
     "execution_count": 21,
     "metadata": {},
     "output_type": "execute_result"
    }
   ],
   "source": [
    "CAStocids=function(query) {\n",
    "  xmlresponse = xmlParse( getURL(paste(\n",
    "      \"http://www.ncbi.nlm.nih.gov/entrez/eutils/esearch.fcgi?db=pccompound&retmax=100&term=\",query,sep=\"\") ) )\n",
    "  cids = sapply(xpathSApply(xmlresponse, \"//Id\"), function(n){xmlValue(n)})\n",
    "  return(cids)\n",
    "}\n",
    "\n",
    "# ~~~~ example ~~~~~~\n",
    "CAStocids(\"64318-79-2\")"
   ]
  },
  {
   "cell_type": "markdown",
   "metadata": {
    "collapsed": true
   },
   "source": [
    "# Compound to CID"
   ]
  },
  {
   "cell_type": "code",
   "execution_count": 20,
   "metadata": {
    "collapsed": false
   },
   "outputs": [
    {
     "data": {
      "text/html": [
       "<dl class=dl-horizontal>\n",
       "\t<dt>DbName</dt>\n",
       "\t\t<dd>'pccompound'</dd>\n",
       "\t<dt>MenuName</dt>\n",
       "\t\t<dd>'PubChem Compound'</dd>\n",
       "\t<dt>Description</dt>\n",
       "\t\t<dd>'PubChem Compound Database'</dd>\n",
       "\t<dt>DbBuild</dt>\n",
       "\t\t<dd>'Build160521-2055m.1'</dd>\n",
       "\t<dt>Count</dt>\n",
       "\t\t<dd>'89193328'</dd>\n",
       "\t<dt>LastUpdate</dt>\n",
       "\t\t<dd>'2016/05/25 22:36'</dd>\n",
       "</dl>\n"
      ],
      "text/latex": [
       "\\begin{description*}\n",
       "\\item[DbName] 'pccompound'\n",
       "\\item[MenuName] 'PubChem Compound'\n",
       "\\item[Description] 'PubChem Compound Database'\n",
       "\\item[DbBuild] 'Build160521-2055m.1'\n",
       "\\item[Count] '89193328'\n",
       "\\item[LastUpdate] '2016/05/25 22:36'\n",
       "\\end{description*}\n"
      ],
      "text/markdown": [
       "DbName\n",
       ":   'pccompound'MenuName\n",
       ":   'PubChem Compound'Description\n",
       ":   'PubChem Compound Database'DbBuild\n",
       ":   'Build160521-2055m.1'Count\n",
       ":   '89193328'LastUpdate\n",
       ":   '2016/05/25 22:36'\n",
       "\n"
      ],
      "text/plain": [
       " DbName: pccompound\n",
       " MenuName: PubChem Compound\n",
       " Description: PubChem Compound Database\n",
       " DbBuild: Build160521-2055m.1\n",
       " Count: 89193328\n",
       " LastUpdate: 2016/05/25 22:36 "
      ]
     },
     "execution_count": 20,
     "metadata": {},
     "output_type": "execute_result"
    }
   ],
   "source": [
    "# entrez_dbs()\n",
    "## 'pccompound' is PubChem Compound\n",
    "entrez_db_summary(\"pccompound\")\n",
    "# entrez_db_searchable(\"pccompound\")"
   ]
  },
  {
   "cell_type": "markdown",
   "metadata": {},
   "source": [
    "### Unique identifier (UID) back to top\n",
    "Each record within a PubChem database receives a unique identifier (UID), which is an integer that remains stable even if the content of the record is modified or enhanced over time. While \"UID\" is the generic term that applies to all PubChem (and other NCBI database) records, the UID is sometimes referred to by other names, depending upon the specific database being used. For example:\n",
    "- **Substance identifier (SID)**\n",
    "    - A substance identifier (SID) is the permanent identifier for a depositor-supplied molecule. These are found in the PubChem Substance database. Each SID corresponds to a unique external registry ID provided by a PubChem data source. (The data processing section of this document provides more details about SIDs.)\n",
    "\n",
    "- **Compound identifier (CID)**\n",
    "    - A compound identifier (CID) is the permanent identifer for a unique chemical structure. These are found in the PubChem Compound database. Each stereoisomer of a compound has its own CID. It is also possible for different tautomeric forms of the same compound to have different CID's. (The data processing section of this document provides more details about CIDs.)\n",
    "\n",
    "    Note: Although identifiers are unique within a PubChem database, the same integer can be used as an identifier in two or more different databases. For example, \"2244\" is a valid identifier in both the PubChem Substance and PubChem Compound database, where:\n",
    "\n",
    "\n",
    "    SID: 2244 is the PubChem Substance database record for cytidylate, and \n",
    "    CID: 2244 is the PubChem Compound database record for aspirin."
   ]
  },
  {
   "cell_type": "code",
   "execution_count": 19,
   "metadata": {
    "collapsed": false
   },
   "outputs": [
    {
     "data": {
      "text/html": [
       "<ol class=list-inline>\n",
       "\t<li>'6917857'</li>\n",
       "\t<li>'6434870'</li>\n",
       "\t<li>'5353643'</li>\n",
       "\t<li>'5282237'</li>\n",
       "</ol>\n"
      ],
      "text/latex": [
       "\\begin{enumerate*}\n",
       "\\item '6917857'\n",
       "\\item '6434870'\n",
       "\\item '5353643'\n",
       "\\item '5282237'\n",
       "\\end{enumerate*}\n"
      ],
      "text/markdown": [
       "1. '6917857'\n",
       "2. '6434870'\n",
       "3. '5353643'\n",
       "4. '5282237'\n",
       "\n",
       "\n"
      ],
      "text/plain": [
       "[1] \"6917857\" \"6434870\" \"5353643\" \"5282237\""
      ]
     },
     "execution_count": 19,
     "metadata": {},
     "output_type": "execute_result"
    }
   ],
   "source": [
    "r_search <- entrez_search(db=\"pccompound\", term=\"Gemeprost\")\n",
    "r_search$ids\n",
    "# ids is CID list when compound searched."
   ]
  },
  {
   "cell_type": "markdown",
   "metadata": {},
   "source": [
    "## Are they really different compounds? \n",
    "\n",
    "https://www.ncbi.nlm.nih.gov/pccompound?term=Gemeprost"
   ]
  },
  {
   "cell_type": "markdown",
   "metadata": {},
   "source": [
    "## What I want as dataframe\n",
    "\n",
    "PubChem Compound Identifier (CID)\n",
    " \n",
    " *species*  | Compound | CID | CAS-ID\n",
    "  -------------  | ------------- |   -------------  | -------------\n",
    "  *Fungi Agaricus Bisporu* | Gemeprost | 5282237 | 64318-79-2\n",
    "  \n",
    "  \n",
    "  \n",
    "# Problem\n",
    "\n",
    "### Problem in Raw data (mVOC_comp.txt)\n",
    "- Naphthalene, 1,2,3,5,6,7,8,8a-octahydro-1,8a-dimethyl-7-(1-methylethenyl)-, [1S-(1.alpha.,7.alpha.,8a.alpha.)]-\n",
    "- 1H-3a,7-methanoazulene, 2,3,4,7,8,8a-hexahydro-3,6,8,8-tetramethyl-, [3R-(3.alpha., 3a.beta.,7.beta.,8a.alpha.)]\n",
    "- 1,4-Methanoazulen-3-ol,decahydro-1,5,5,8a-tetramethyl-,[1S-1.alpha.,3.alpha.,3a.alpha.,4.alpha.,8a.alpha.)]\n",
    "- ect ......\n",
    "\n",
    "\n",
    "\n",
    "https://www.ncbi.nlm.nih.gov/pccompound?term=(e)-5-acetyl-2%2C2-dimethyl-1-(3%27-methyl-1%27%2C3%27-butadien-1%27-yl)bicyclo%5B2.1.0%5Dpentane \n",
    "= No Result problem\n",
    " "
   ]
  },
  {
   "cell_type": "code",
   "execution_count": null,
   "metadata": {
    "collapsed": true
   },
   "outputs": [],
   "source": []
  }
 ],
 "metadata": {
  "kernelspec": {
   "display_name": "R",
   "language": "R",
   "name": "ir"
  },
  "language_info": {
   "codemirror_mode": "r",
   "file_extension": ".r",
   "mimetype": "text/x-r-source",
   "name": "R",
   "pygments_lexer": "r",
   "version": "3.2.2"
  }
 },
 "nbformat": 4,
 "nbformat_minor": 0
}
